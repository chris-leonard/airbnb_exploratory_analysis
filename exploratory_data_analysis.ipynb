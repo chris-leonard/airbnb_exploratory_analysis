{
 "cells": [
  {
   "cell_type": "markdown",
   "metadata": {},
   "source": [
    "# Getting started"
   ]
  },
  {
   "cell_type": "markdown",
   "metadata": {},
   "source": [
    "I'll start by loading packages, importing the data, and taking a look at it."
   ]
  },
  {
   "cell_type": "code",
   "execution_count": 1,
   "metadata": {
    "scrolled": false
   },
   "outputs": [
    {
     "data": {
      "text/html": [
       "<div>\n",
       "<style scoped>\n",
       "    .dataframe tbody tr th:only-of-type {\n",
       "        vertical-align: middle;\n",
       "    }\n",
       "\n",
       "    .dataframe tbody tr th {\n",
       "        vertical-align: top;\n",
       "    }\n",
       "\n",
       "    .dataframe thead th {\n",
       "        text-align: right;\n",
       "    }\n",
       "</style>\n",
       "<table border=\"1\" class=\"dataframe\">\n",
       "  <thead>\n",
       "    <tr style=\"text-align: right;\">\n",
       "      <th></th>\n",
       "      <th>id</th>\n",
       "      <th>name</th>\n",
       "      <th>host_id</th>\n",
       "      <th>host_name</th>\n",
       "      <th>neighbourhood_group</th>\n",
       "      <th>neighbourhood</th>\n",
       "      <th>latitude</th>\n",
       "      <th>longitude</th>\n",
       "      <th>room_type</th>\n",
       "      <th>price</th>\n",
       "      <th>minimum_nights</th>\n",
       "      <th>number_of_reviews</th>\n",
       "      <th>last_review</th>\n",
       "      <th>reviews_per_month</th>\n",
       "      <th>calculated_host_listings_count</th>\n",
       "      <th>availability_365</th>\n",
       "    </tr>\n",
       "  </thead>\n",
       "  <tbody>\n",
       "    <tr>\n",
       "      <th>0</th>\n",
       "      <td>2539</td>\n",
       "      <td>Clean &amp; quiet apt home by the park</td>\n",
       "      <td>2787</td>\n",
       "      <td>John</td>\n",
       "      <td>Brooklyn</td>\n",
       "      <td>Kensington</td>\n",
       "      <td>40.64749</td>\n",
       "      <td>-73.97237</td>\n",
       "      <td>Private room</td>\n",
       "      <td>149</td>\n",
       "      <td>1</td>\n",
       "      <td>9</td>\n",
       "      <td>19/10/2018</td>\n",
       "      <td>0.21</td>\n",
       "      <td>6</td>\n",
       "      <td>365</td>\n",
       "    </tr>\n",
       "    <tr>\n",
       "      <th>1</th>\n",
       "      <td>2595</td>\n",
       "      <td>Skylit Midtown Castle</td>\n",
       "      <td>2845</td>\n",
       "      <td>Jennifer</td>\n",
       "      <td>Manhattan</td>\n",
       "      <td>Midtown</td>\n",
       "      <td>40.75362</td>\n",
       "      <td>-73.98377</td>\n",
       "      <td>Entire home/apt</td>\n",
       "      <td>225</td>\n",
       "      <td>1</td>\n",
       "      <td>45</td>\n",
       "      <td>21/05/2019</td>\n",
       "      <td>0.38</td>\n",
       "      <td>2</td>\n",
       "      <td>355</td>\n",
       "    </tr>\n",
       "    <tr>\n",
       "      <th>2</th>\n",
       "      <td>3647</td>\n",
       "      <td>THE VILLAGE OF HARLEM....NEW YORK !</td>\n",
       "      <td>4632</td>\n",
       "      <td>Elisabeth</td>\n",
       "      <td>Manhattan</td>\n",
       "      <td>Harlem</td>\n",
       "      <td>40.80902</td>\n",
       "      <td>-73.94190</td>\n",
       "      <td>Private room</td>\n",
       "      <td>150</td>\n",
       "      <td>3</td>\n",
       "      <td>0</td>\n",
       "      <td>NaN</td>\n",
       "      <td>NaN</td>\n",
       "      <td>1</td>\n",
       "      <td>365</td>\n",
       "    </tr>\n",
       "    <tr>\n",
       "      <th>3</th>\n",
       "      <td>3831</td>\n",
       "      <td>Cozy Entire Floor of Brownstone</td>\n",
       "      <td>4869</td>\n",
       "      <td>LisaRoxanne</td>\n",
       "      <td>Brooklyn</td>\n",
       "      <td>Clinton Hill</td>\n",
       "      <td>40.68514</td>\n",
       "      <td>-73.95976</td>\n",
       "      <td>Entire home/apt</td>\n",
       "      <td>89</td>\n",
       "      <td>1</td>\n",
       "      <td>270</td>\n",
       "      <td>05/07/2019</td>\n",
       "      <td>4.64</td>\n",
       "      <td>1</td>\n",
       "      <td>194</td>\n",
       "    </tr>\n",
       "    <tr>\n",
       "      <th>4</th>\n",
       "      <td>5022</td>\n",
       "      <td>Entire Apt: Spacious Studio/Loft by central park</td>\n",
       "      <td>7192</td>\n",
       "      <td>Laura</td>\n",
       "      <td>Manhattan</td>\n",
       "      <td>East Harlem</td>\n",
       "      <td>40.79851</td>\n",
       "      <td>-73.94399</td>\n",
       "      <td>Entire home/apt</td>\n",
       "      <td>80</td>\n",
       "      <td>10</td>\n",
       "      <td>9</td>\n",
       "      <td>19/11/2018</td>\n",
       "      <td>0.10</td>\n",
       "      <td>1</td>\n",
       "      <td>0</td>\n",
       "    </tr>\n",
       "  </tbody>\n",
       "</table>\n",
       "</div>"
      ],
      "text/plain": [
       "     id                                              name  host_id  \\\n",
       "0  2539                Clean & quiet apt home by the park     2787   \n",
       "1  2595                             Skylit Midtown Castle     2845   \n",
       "2  3647               THE VILLAGE OF HARLEM....NEW YORK !     4632   \n",
       "3  3831                   Cozy Entire Floor of Brownstone     4869   \n",
       "4  5022  Entire Apt: Spacious Studio/Loft by central park     7192   \n",
       "\n",
       "     host_name neighbourhood_group neighbourhood  latitude  longitude  \\\n",
       "0         John            Brooklyn    Kensington  40.64749  -73.97237   \n",
       "1     Jennifer           Manhattan       Midtown  40.75362  -73.98377   \n",
       "2    Elisabeth           Manhattan        Harlem  40.80902  -73.94190   \n",
       "3  LisaRoxanne            Brooklyn  Clinton Hill  40.68514  -73.95976   \n",
       "4        Laura           Manhattan   East Harlem  40.79851  -73.94399   \n",
       "\n",
       "         room_type  price  minimum_nights  number_of_reviews last_review  \\\n",
       "0     Private room    149               1                  9  19/10/2018   \n",
       "1  Entire home/apt    225               1                 45  21/05/2019   \n",
       "2     Private room    150               3                  0         NaN   \n",
       "3  Entire home/apt     89               1                270  05/07/2019   \n",
       "4  Entire home/apt     80              10                  9  19/11/2018   \n",
       "\n",
       "   reviews_per_month  calculated_host_listings_count  availability_365  \n",
       "0               0.21                               6               365  \n",
       "1               0.38                               2               355  \n",
       "2                NaN                               1               365  \n",
       "3               4.64                               1               194  \n",
       "4               0.10                               1                 0  "
      ]
     },
     "execution_count": 1,
     "metadata": {},
     "output_type": "execute_result"
    }
   ],
   "source": [
    "# Import data science packages\n",
    "import pandas as pd\n",
    "import numpy as np\n",
    "import matplotlib.pylab as pylab\n",
    "from matplotlib import pyplot as plt\n",
    "\n",
    "# Set global parameters for plots\n",
    "params = {'figure.figsize': (8, 5),\n",
    "         'axes.labelsize': 'x-large',\n",
    "         'axes.titlesize':'x-large',\n",
    "         'xtick.labelsize':'large',\n",
    "         'ytick.labelsize': 'large'}\n",
    "pylab.rcParams.update(params)\n",
    "\n",
    "# Import data\n",
    "nyc_2019 = pd.read_csv('AB_NYC_2019.csv')\n",
    "\n",
    "# Look at data\n",
    "nyc_2019.head(5)"
   ]
  },
  {
   "cell_type": "code",
   "execution_count": 2,
   "metadata": {
    "scrolled": false
   },
   "outputs": [
    {
     "name": "stdout",
     "output_type": "stream",
     "text": [
      "<class 'pandas.core.frame.DataFrame'>\n",
      "RangeIndex: 48895 entries, 0 to 48894\n",
      "Data columns (total 16 columns):\n",
      "id                                48895 non-null int64\n",
      "name                              48879 non-null object\n",
      "host_id                           48895 non-null int64\n",
      "host_name                         48874 non-null object\n",
      "neighbourhood_group               48895 non-null object\n",
      "neighbourhood                     48895 non-null object\n",
      "latitude                          48895 non-null float64\n",
      "longitude                         48895 non-null float64\n",
      "room_type                         48895 non-null object\n",
      "price                             48895 non-null int64\n",
      "minimum_nights                    48895 non-null int64\n",
      "number_of_reviews                 48895 non-null int64\n",
      "last_review                       38843 non-null object\n",
      "reviews_per_month                 38843 non-null float64\n",
      "calculated_host_listings_count    48895 non-null int64\n",
      "availability_365                  48895 non-null int64\n",
      "dtypes: float64(3), int64(7), object(6)\n",
      "memory usage: 6.0+ MB\n"
     ]
    }
   ],
   "source": [
    "# Summary of data\n",
    "nyc_2019.info()"
   ]
  },
  {
   "cell_type": "markdown",
   "metadata": {},
   "source": [
    "'Last review' is an object when it should be a timestamp. I'll convert it."
   ]
  },
  {
   "cell_type": "code",
   "execution_count": 3,
   "metadata": {},
   "outputs": [
    {
     "data": {
      "text/plain": [
       "count                   38843\n",
       "unique                   1764\n",
       "top       2019-06-23 00:00:00\n",
       "freq                     1413\n",
       "first     2011-03-28 00:00:00\n",
       "last      2019-07-08 00:00:00\n",
       "Name: last_review, dtype: object"
      ]
     },
     "execution_count": 3,
     "metadata": {},
     "output_type": "execute_result"
    }
   ],
   "source": [
    "# Convert 'last_review' into Timestamp\n",
    "nyc_2019['last_review'] = pd.to_datetime(nyc_2019.last_review, format = '%d/%m/%Y')\n",
    "\n",
    "# Q: What is the rough time window of our data?\n",
    "nyc_2019.last_review.describe()\n",
    "\n",
    "# A: March 2011 - July 2019"
   ]
  },
  {
   "cell_type": "markdown",
   "metadata": {},
   "source": [
    "# Consistency: id, host_id, and host_name"
   ]
  },
  {
   "cell_type": "markdown",
   "metadata": {},
   "source": [
    "I want to run some quick checks to verify the consistency of labels etc in the data set. I'll start with id, host_id, and host_name."
   ]
  },
  {
   "cell_type": "code",
   "execution_count": 4,
   "metadata": {},
   "outputs": [
    {
     "data": {
      "text/plain": [
       "True"
      ]
     },
     "execution_count": 4,
     "metadata": {},
     "output_type": "execute_result"
    }
   ],
   "source": [
    "# Are id numbers unique?\n",
    "len(nyc_2019.id.unique()) == len(nyc_2019)"
   ]
  },
  {
   "cell_type": "markdown",
   "metadata": {},
   "source": [
    "No two hosts have the same id."
   ]
  },
  {
   "cell_type": "code",
   "execution_count": 5,
   "metadata": {},
   "outputs": [
    {
     "data": {
      "text/html": [
       "<div>\n",
       "<style scoped>\n",
       "    .dataframe tbody tr th:only-of-type {\n",
       "        vertical-align: middle;\n",
       "    }\n",
       "\n",
       "    .dataframe tbody tr th {\n",
       "        vertical-align: top;\n",
       "    }\n",
       "\n",
       "    .dataframe thead th {\n",
       "        text-align: right;\n",
       "    }\n",
       "</style>\n",
       "<table border=\"1\" class=\"dataframe\">\n",
       "  <thead>\n",
       "    <tr style=\"text-align: right;\">\n",
       "      <th></th>\n",
       "      <th>host_id</th>\n",
       "      <th>calculated_host_listings_count</th>\n",
       "      <th>recalculated_listings_count</th>\n",
       "    </tr>\n",
       "  </thead>\n",
       "  <tbody>\n",
       "  </tbody>\n",
       "</table>\n",
       "</div>"
      ],
      "text/plain": [
       "Empty DataFrame\n",
       "Columns: [host_id, calculated_host_listings_count, recalculated_listings_count]\n",
       "Index: []"
      ]
     },
     "execution_count": 5,
     "metadata": {},
     "output_type": "execute_result"
    }
   ],
   "source": [
    "# Checking calculated_host_listings_count\n",
    "listings_by_host_id = nyc_2019.groupby(['host_id', 'calculated_host_listings_count']).id.count().reset_index()\n",
    "listings_by_host_id.rename(columns = {'id' : 'recalculated_listings_count'}, inplace = True)\n",
    "\n",
    "# Return data frame with host_ids for which calculated_host_listings_count doesn't match my calculation\n",
    "listings_by_host_id[listings_by_host_id.calculated_host_listings_count != listings_by_host_id.recalculated_listings_count]"
   ]
  },
  {
   "cell_type": "markdown",
   "metadata": {},
   "source": [
    "The data frame is empty so 'calculated_host_listings_count' is correct."
   ]
  },
  {
   "cell_type": "code",
   "execution_count": 6,
   "metadata": {},
   "outputs": [
    {
     "data": {
      "text/plain": [
       "21"
      ]
     },
     "execution_count": 6,
     "metadata": {},
     "output_type": "execute_result"
    }
   ],
   "source": [
    "# Do same host ids have same host names?\n",
    "host_names_by_host_id = nyc_2019.groupby('host_id').host_name.nunique().reset_index()\n",
    "host_ids_without_names = host_names_by_host_id[host_names_by_host_id.host_name != 1]\n",
    "\n",
    "# Suggests some host ids don't have names. Check against original data set\n",
    "host_ids_without_names = nyc_2019[nyc_2019.host_id.isin(host_ids_without_names['host_id'])]\n",
    "len(host_ids_without_names)"
   ]
  },
  {
   "cell_type": "markdown",
   "metadata": {},
   "source": [
    "21 host ids don't have host names, but no host id has more than one name attached."
   ]
  },
  {
   "cell_type": "markdown",
   "metadata": {},
   "source": [
    "# Consistency: neighbourhood, neighbourhood_group, and room_type"
   ]
  },
  {
   "cell_type": "markdown",
   "metadata": {},
   "source": [
    "Test consistency in labelling of neighbourhoods (capitalisation etc.)"
   ]
  },
  {
   "cell_type": "code",
   "execution_count": 7,
   "metadata": {},
   "outputs": [
    {
     "data": {
      "text/html": [
       "<div>\n",
       "<style scoped>\n",
       "    .dataframe tbody tr th:only-of-type {\n",
       "        vertical-align: middle;\n",
       "    }\n",
       "\n",
       "    .dataframe tbody tr th {\n",
       "        vertical-align: top;\n",
       "    }\n",
       "\n",
       "    .dataframe thead th {\n",
       "        text-align: right;\n",
       "    }\n",
       "</style>\n",
       "<table border=\"1\" class=\"dataframe\">\n",
       "  <thead>\n",
       "    <tr style=\"text-align: right;\">\n",
       "      <th></th>\n",
       "      <th>neighbourhood_group</th>\n",
       "      <th>num_listings</th>\n",
       "    </tr>\n",
       "  </thead>\n",
       "  <tbody>\n",
       "    <tr>\n",
       "      <th>0</th>\n",
       "      <td>Bronx</td>\n",
       "      <td>1091</td>\n",
       "    </tr>\n",
       "    <tr>\n",
       "      <th>1</th>\n",
       "      <td>Brooklyn</td>\n",
       "      <td>20104</td>\n",
       "    </tr>\n",
       "    <tr>\n",
       "      <th>2</th>\n",
       "      <td>Manhattan</td>\n",
       "      <td>21661</td>\n",
       "    </tr>\n",
       "    <tr>\n",
       "      <th>3</th>\n",
       "      <td>Queens</td>\n",
       "      <td>5666</td>\n",
       "    </tr>\n",
       "    <tr>\n",
       "      <th>4</th>\n",
       "      <td>Staten Island</td>\n",
       "      <td>373</td>\n",
       "    </tr>\n",
       "  </tbody>\n",
       "</table>\n",
       "</div>"
      ],
      "text/plain": [
       "  neighbourhood_group  num_listings\n",
       "0               Bronx          1091\n",
       "1            Brooklyn         20104\n",
       "2           Manhattan         21661\n",
       "3              Queens          5666\n",
       "4       Staten Island           373"
      ]
     },
     "execution_count": 7,
     "metadata": {},
     "output_type": "execute_result"
    }
   ],
   "source": [
    "# Number of listings in different neighbourhoods\n",
    "listings_by_neighbourhood = nyc_2019.groupby(['neighbourhood_group', 'neighbourhood']).id.count().reset_index()\n",
    "listings_by_neighbourhood.rename(columns = {'id' : 'num_listings'}, inplace = True)\n",
    "\n",
    "# and in different neighbourhood groups\n",
    "listings_by_neighbourhood_group = listings_by_neighbourhood.groupby('neighbourhood_group').num_listings.sum().reset_index()\n",
    "\n",
    "listings_by_neighbourhood_group"
   ]
  },
  {
   "cell_type": "markdown",
   "metadata": {},
   "source": [
    "There are 5 neighbourhood groups. They are consistently labelled. What about neighbourhoods themselves?"
   ]
  },
  {
   "cell_type": "code",
   "execution_count": 8,
   "metadata": {},
   "outputs": [
    {
     "data": {
      "text/html": [
       "<div>\n",
       "<style scoped>\n",
       "    .dataframe tbody tr th:only-of-type {\n",
       "        vertical-align: middle;\n",
       "    }\n",
       "\n",
       "    .dataframe tbody tr th {\n",
       "        vertical-align: top;\n",
       "    }\n",
       "\n",
       "    .dataframe thead th {\n",
       "        text-align: right;\n",
       "    }\n",
       "</style>\n",
       "<table border=\"1\" class=\"dataframe\">\n",
       "  <thead>\n",
       "    <tr style=\"text-align: right;\">\n",
       "      <th></th>\n",
       "      <th>neighbourhood_group</th>\n",
       "      <th>num_neighbourhoods</th>\n",
       "    </tr>\n",
       "  </thead>\n",
       "  <tbody>\n",
       "    <tr>\n",
       "      <th>0</th>\n",
       "      <td>Bronx</td>\n",
       "      <td>48</td>\n",
       "    </tr>\n",
       "    <tr>\n",
       "      <th>1</th>\n",
       "      <td>Brooklyn</td>\n",
       "      <td>47</td>\n",
       "    </tr>\n",
       "    <tr>\n",
       "      <th>2</th>\n",
       "      <td>Manhattan</td>\n",
       "      <td>32</td>\n",
       "    </tr>\n",
       "    <tr>\n",
       "      <th>3</th>\n",
       "      <td>Queens</td>\n",
       "      <td>51</td>\n",
       "    </tr>\n",
       "    <tr>\n",
       "      <th>4</th>\n",
       "      <td>Staten Island</td>\n",
       "      <td>43</td>\n",
       "    </tr>\n",
       "  </tbody>\n",
       "</table>\n",
       "</div>"
      ],
      "text/plain": [
       "  neighbourhood_group  num_neighbourhoods\n",
       "0               Bronx                  48\n",
       "1            Brooklyn                  47\n",
       "2           Manhattan                  32\n",
       "3              Queens                  51\n",
       "4       Staten Island                  43"
      ]
     },
     "execution_count": 8,
     "metadata": {},
     "output_type": "execute_result"
    }
   ],
   "source": [
    "# How many neighbourhoods are in each group?\n",
    "num_neighbourhoods_by_neighbourhood_group = listings_by_neighbourhood.groupby('neighbourhood_group').neighbourhood.count().reset_index()\n",
    "num_neighbourhoods_by_neighbourhood_group.rename(columns = {'neighbourhood' : 'num_neighbourhoods'}, inplace = True)\n",
    "\n",
    "num_neighbourhoods_by_neighbourhood_group"
   ]
  },
  {
   "cell_type": "code",
   "execution_count": 9,
   "metadata": {},
   "outputs": [
    {
     "data": {
      "text/html": [
       "<div>\n",
       "<style scoped>\n",
       "    .dataframe tbody tr th:only-of-type {\n",
       "        vertical-align: middle;\n",
       "    }\n",
       "\n",
       "    .dataframe tbody tr th {\n",
       "        vertical-align: top;\n",
       "    }\n",
       "\n",
       "    .dataframe thead th {\n",
       "        text-align: right;\n",
       "    }\n",
       "</style>\n",
       "<table border=\"1\" class=\"dataframe\">\n",
       "  <thead>\n",
       "    <tr style=\"text-align: right;\">\n",
       "      <th></th>\n",
       "      <th>neighbourhood</th>\n",
       "      <th>neighbourhood_group</th>\n",
       "    </tr>\n",
       "  </thead>\n",
       "  <tbody>\n",
       "  </tbody>\n",
       "</table>\n",
       "</div>"
      ],
      "text/plain": [
       "Empty DataFrame\n",
       "Columns: [neighbourhood, neighbourhood_group]\n",
       "Index: []"
      ]
     },
     "execution_count": 9,
     "metadata": {},
     "output_type": "execute_result"
    }
   ],
   "source": [
    "# Check if any neighbourhood appears in two groups\n",
    "num_neighbourhood_groups_by_neighbourhood = listings_by_neighbourhood.groupby('neighbourhood').neighbourhood_group.count().reset_index()\n",
    "num_neighbourhood_groups_by_neighbourhood = num_neighbourhood_groups_by_neighbourhood[num_neighbourhood_groups_by_neighbourhood.neighbourhood_group != 1]\n",
    "\n",
    "num_neighbourhood_groups_by_neighbourhood"
   ]
  },
  {
   "cell_type": "markdown",
   "metadata": {},
   "source": [
    "No neighbourhood appears in more than one group."
   ]
  },
  {
   "cell_type": "code",
   "execution_count": 10,
   "metadata": {},
   "outputs": [],
   "source": [
    "#listings_by_neighbourhood[listings_by_neighbourhood.neighbourhood_group == 'Bronx']"
   ]
  },
  {
   "cell_type": "markdown",
   "metadata": {},
   "source": [
    "Went through different neighbourhoods in each group. Labelling is consistent (e.g. no neighbourhood appears twice with different capitalisations)."
   ]
  },
  {
   "cell_type": "markdown",
   "metadata": {},
   "source": [
    "*Edit: checked Inside Airbnb and they updated neighbourhoods labelling to be consistent with city definitions.*"
   ]
  },
  {
   "cell_type": "code",
   "execution_count": 11,
   "metadata": {
    "scrolled": true
   },
   "outputs": [
    {
     "data": {
      "text/html": [
       "<div>\n",
       "<style scoped>\n",
       "    .dataframe tbody tr th:only-of-type {\n",
       "        vertical-align: middle;\n",
       "    }\n",
       "\n",
       "    .dataframe tbody tr th {\n",
       "        vertical-align: top;\n",
       "    }\n",
       "\n",
       "    .dataframe thead th {\n",
       "        text-align: right;\n",
       "    }\n",
       "</style>\n",
       "<table border=\"1\" class=\"dataframe\">\n",
       "  <thead>\n",
       "    <tr style=\"text-align: right;\">\n",
       "      <th>neighbourhood_group</th>\n",
       "      <th>Bronx</th>\n",
       "      <th>Brooklyn</th>\n",
       "      <th>Manhattan</th>\n",
       "      <th>Queens</th>\n",
       "      <th>Staten Island</th>\n",
       "      <th>total</th>\n",
       "    </tr>\n",
       "    <tr>\n",
       "      <th>room_type</th>\n",
       "      <th></th>\n",
       "      <th></th>\n",
       "      <th></th>\n",
       "      <th></th>\n",
       "      <th></th>\n",
       "      <th></th>\n",
       "    </tr>\n",
       "  </thead>\n",
       "  <tbody>\n",
       "    <tr>\n",
       "      <th>Entire home/apt</th>\n",
       "      <td>379</td>\n",
       "      <td>9559</td>\n",
       "      <td>13199</td>\n",
       "      <td>2096</td>\n",
       "      <td>176</td>\n",
       "      <td>25409</td>\n",
       "    </tr>\n",
       "    <tr>\n",
       "      <th>Private room</th>\n",
       "      <td>652</td>\n",
       "      <td>10132</td>\n",
       "      <td>7982</td>\n",
       "      <td>3372</td>\n",
       "      <td>188</td>\n",
       "      <td>22326</td>\n",
       "    </tr>\n",
       "    <tr>\n",
       "      <th>Shared room</th>\n",
       "      <td>60</td>\n",
       "      <td>413</td>\n",
       "      <td>480</td>\n",
       "      <td>198</td>\n",
       "      <td>9</td>\n",
       "      <td>1160</td>\n",
       "    </tr>\n",
       "    <tr>\n",
       "      <th>total</th>\n",
       "      <td>1091</td>\n",
       "      <td>20104</td>\n",
       "      <td>21661</td>\n",
       "      <td>5666</td>\n",
       "      <td>373</td>\n",
       "      <td>48895</td>\n",
       "    </tr>\n",
       "  </tbody>\n",
       "</table>\n",
       "</div>"
      ],
      "text/plain": [
       "neighbourhood_group  Bronx  Brooklyn  Manhattan  Queens  Staten Island  total\n",
       "room_type                                                                    \n",
       "Entire home/apt        379      9559      13199    2096            176  25409\n",
       "Private room           652     10132       7982    3372            188  22326\n",
       "Shared room             60       413        480     198              9   1160\n",
       "total                 1091     20104      21661    5666            373  48895"
      ]
     },
     "execution_count": 11,
     "metadata": {},
     "output_type": "execute_result"
    }
   ],
   "source": [
    "# Different room types by neighbourhood group\n",
    "listings_by_room_type_by_neighbourhood_group = nyc_2019.groupby(['neighbourhood_group', 'room_type']).id.count().reset_index()\n",
    "\n",
    "listings_by_room_type_by_neighbourhood_group = listings_by_room_type_by_neighbourhood_group.pivot(columns = 'neighbourhood_group',\n",
    "                                                                           index = 'room_type',\n",
    "                                                                            values = 'id')\n",
    "\n",
    "listings_by_room_type_by_neighbourhood_group['total'] = listings_by_room_type_by_neighbourhood_group.apply(sum, axis = 1)\n",
    "listings_by_room_type_by_neighbourhood_group.loc['total'] = listings_by_room_type_by_neighbourhood_group.apply(sum, axis = 0)\n",
    "\n",
    "listings_by_room_type_by_neighbourhood_group"
   ]
  },
  {
   "cell_type": "markdown",
   "metadata": {},
   "source": [
    "There are 3 different room types. They are labelled consistently."
   ]
  },
  {
   "cell_type": "markdown",
   "metadata": {},
   "source": [
    "# Q: How up to date is this data?"
   ]
  },
  {
   "cell_type": "markdown",
   "metadata": {},
   "source": [
    "First question: how many properties are currently available to rent?"
   ]
  },
  {
   "cell_type": "code",
   "execution_count": 12,
   "metadata": {},
   "outputs": [
    {
     "data": {
      "text/plain": [
       "35.9"
      ]
     },
     "execution_count": 12,
     "metadata": {},
     "output_type": "execute_result"
    }
   ],
   "source": [
    "# Isolate listings which are currently available\n",
    "available = nyc_2019[nyc_2019.availability_365 != 0].reset_index()\n",
    "unavailable = nyc_2019[nyc_2019.availability_365 == 0].reset_index()\n",
    "\n",
    "# What are these are a proportion of the whole?\n",
    "round(len(unavailable)/len(nyc_2019)*100, 1)"
   ]
  },
  {
   "cell_type": "markdown",
   "metadata": {},
   "source": [
    "About 36% of properties are currently unavailable to rent. This could be because they are old listings that have never been taken off the site or because they just happen to be unavailable at the moment. We can try to get a sense of this by looking at the date of the last review."
   ]
  },
  {
   "cell_type": "code",
   "execution_count": 13,
   "metadata": {},
   "outputs": [
    {
     "data": {
      "text/plain": [
       "79.4"
      ]
     },
     "execution_count": 13,
     "metadata": {},
     "output_type": "execute_result"
    }
   ],
   "source": [
    "# Remove listings with no reviews\n",
    "nyc_2019_reviewed = nyc_2019[nyc_2019.last_review.notnull()]\n",
    "\n",
    "round(len(nyc_2019_reviewed)/len(nyc_2019)*100, 1)"
   ]
  },
  {
   "cell_type": "markdown",
   "metadata": {},
   "source": [
    "About 80% of properties have been reviewed in the past. What if we restrict to properties which are currently unavailable?"
   ]
  },
  {
   "cell_type": "code",
   "execution_count": 14,
   "metadata": {},
   "outputs": [
    {
     "data": {
      "text/plain": [
       "72.4"
      ]
     },
     "execution_count": 14,
     "metadata": {},
     "output_type": "execute_result"
    }
   ],
   "source": [
    "# Isolate reviewed listings which are currently unavailable\n",
    "unavailable_reviewed = nyc_2019_reviewed[nyc_2019_reviewed.availability_365 == 0]\n",
    "\n",
    "round(len(unavailable_reviewed)/len(unavailable)*100, 1)"
   ]
  },
  {
   "cell_type": "markdown",
   "metadata": {},
   "source": [
    "It drops to 72% for unavailable properties. What is the distribution of the date of last review for these properties?"
   ]
  },
  {
   "cell_type": "code",
   "execution_count": 15,
   "metadata": {},
   "outputs": [
    {
     "data": {
      "text/plain": [
       "[Timestamp('2011-03-28 00:00:00'),\n",
       " Timestamp('2016-09-20 00:00:00'),\n",
       " Timestamp('2018-01-01 00:00:00'),\n",
       " Timestamp('2018-12-30 00:00:00'),\n",
       " Timestamp('2019-07-08 00:00:00')]"
      ]
     },
     "execution_count": 15,
     "metadata": {},
     "output_type": "execute_result"
    }
   ],
   "source": [
    "# Function giving 5 number summary (0 - 4th quartiles) of a Series\n",
    "five_num_summary = lambda x: [x.min(), x.quantile(.25), x.quantile(.5), x.quantile(.75), x.max()]\n",
    "\n",
    "five_num_summary(unavailable_reviewed.last_review)"
   ]
  },
  {
   "cell_type": "code",
   "execution_count": 16,
   "metadata": {},
   "outputs": [
    {
     "data": {
      "text/plain": [
       "38.9"
      ]
     },
     "execution_count": 16,
     "metadata": {},
     "output_type": "execute_result"
    }
   ],
   "source": [
    "# How many have been reviewed in the last year\n",
    "round(len(unavailable_reviewed[unavailable_reviewed.last_review >= pd.Timestamp('2018-07-08T12')])/len(unavailable_reviewed)*100,1)"
   ]
  },
  {
   "cell_type": "markdown",
   "metadata": {},
   "source": [
    "About 40% of these properties have been reviewed in the past year."
   ]
  },
  {
   "cell_type": "code",
   "execution_count": 17,
   "metadata": {
    "scrolled": true
   },
   "outputs": [
    {
     "name": "stderr",
     "output_type": "stream",
     "text": [
      "//anaconda3/lib/python3.7/site-packages/pandas/plotting/_converter.py:129: FutureWarning: Using an implicitly registered datetime converter for a matplotlib plotting method. The converter was registered by pandas on import. Future versions of pandas will require you to explicitly register matplotlib converters.\n",
      "\n",
      "To register the converters:\n",
      "\t>>> from pandas.plotting import register_matplotlib_converters\n",
      "\t>>> register_matplotlib_converters()\n",
      "  warnings.warn(msg, FutureWarning)\n"
     ]
    },
    {
     "data": {
      "image/png": "[encoded data removed]",
      "text/plain": [
       "<Figure size 432x288 with 1 Axes>"
      ]
     },
     "metadata": {
      "needs_background": "light"
     },
     "output_type": "display_data"
    }
   ],
   "source": [
    "plt.figure()\n",
    "\n",
    "# Histogram of last review date for unavailable properties\n",
    "plt.hist(unavailable_reviewed.last_review, bins = 30)\n",
    "\n",
    "# Dashed line gives date one year ago\n",
    "last_year = pd.Timestamp('2018-07-08T12')\n",
    "plt.plot([last_year, last_year], [0, 2000], color = 'k', linestyle = '--');\n",
    "\n",
    "plt.xlabel('last_review')\n",
    "plt.ylabel('no. listings')\n",
    "\n",
    "plt.show()\n",
    "plt.close()"
   ]
  },
  {
   "cell_type": "markdown",
   "metadata": {},
   "source": [
    "Can't separate those that are completely 'dead' and those that are just not on the market at the moment. But 40% have  been reviewed in the last year so a significant percentage are still relevant."
   ]
  },
  {
   "cell_type": "markdown",
   "metadata": {},
   "source": [
    "# Motivating question: how are hosts using Airbnb?"
   ]
  },
  {
   "cell_type": "markdown",
   "metadata": {},
   "source": [
    "Are hosts using it professionally (as their main source of income) or in a casual way. Do they have more than one property? Is it available all through the year or for a few days when they're away? Are they offering short- or long-term rentals?"
   ]
  },
  {
   "cell_type": "markdown",
   "metadata": {},
   "source": [
    "# Focus on availability_365"
   ]
  },
  {
   "cell_type": "markdown",
   "metadata": {},
   "source": [
    "We should be able to use availability_365 to gauge if hosts are renting out for the whole year or only a small part of it. Let's take a look at the distribution."
   ]
  },
  {
   "cell_type": "code",
   "execution_count": 18,
   "metadata": {
    "scrolled": true
   },
   "outputs": [
    {
     "data": {
      "text/plain": [
       "count    48895.000000\n",
       "mean       112.781327\n",
       "std        131.622289\n",
       "min          0.000000\n",
       "25%          0.000000\n",
       "50%         45.000000\n",
       "75%        227.000000\n",
       "max        365.000000\n",
       "Name: availability_365, dtype: float64"
      ]
     },
     "execution_count": 18,
     "metadata": {},
     "output_type": "execute_result"
    }
   ],
   "source": [
    "# Focus on availability_365\n",
    "nyc_2019.availability_365.describe()"
   ]
  },
  {
   "cell_type": "code",
   "execution_count": 19,
   "metadata": {},
   "outputs": [
    {
     "name": "stderr",
     "output_type": "stream",
     "text": [
      "//anaconda3/lib/python3.7/site-packages/ipykernel_launcher.py:9: MatplotlibDeprecationWarning: Adding an axes using the same arguments as a previous axes currently reuses the earlier instance.  In a future version, a new instance will always be created and returned.  Meanwhile, this warning can be suppressed, and the future behavior ensured, by passing a unique label to each axes instance.\n",
      "  if __name__ == '__main__':\n"
     ]
    },
    {
     "data": {
      "image/png": "[encoded data removed]",
      "text/plain": [
       "<Figure size 432x288 with 1 Axes>"
      ]
     },
     "metadata": {
      "needs_background": "light"
     },
     "output_type": "display_data"
    }
   ],
   "source": [
    "# Histogram of availability_365\n",
    "plt.figure()\n",
    "\n",
    "plt.hist(nyc_2019.availability_365, bins = range(0, 367, 1))\n",
    "\n",
    "plt.xlabel('availability_365')\n",
    "plt.ylabel('no. listings')\n",
    "\n",
    "ax = plt.subplot()\n",
    "ax.set_xticks(range(0, 366, 90))\n",
    "\n",
    "plt.show()\n",
    "\n",
    "plt.close()"
   ]
  },
  {
   "cell_type": "markdown",
   "metadata": {},
   "source": [
    "There are spikes at 0 at and 365. What proportion of the data do these make up?"
   ]
  },
  {
   "cell_type": "code",
   "execution_count": 20,
   "metadata": {},
   "outputs": [
    {
     "data": {
      "text/plain": [
       "3.7"
      ]
     },
     "execution_count": 20,
     "metadata": {},
     "output_type": "execute_result"
    }
   ],
   "source": [
    "# What proportion of listings have availability 364 or 365?\n",
    "round(len(nyc_2019[nyc_2019.availability_365 >= 364])/len(nyc_2019) * 100, 1)"
   ]
  },
  {
   "cell_type": "markdown",
   "metadata": {},
   "source": [
    "So unavailable properties make up 36% of the data and properties available all year round make up around 4%"
   ]
  },
  {
   "cell_type": "code",
   "execution_count": 21,
   "metadata": {},
   "outputs": [
    {
     "name": "stderr",
     "output_type": "stream",
     "text": [
      "//anaconda3/lib/python3.7/site-packages/ipykernel_launcher.py:12: MatplotlibDeprecationWarning: Adding an axes using the same arguments as a previous axes currently reuses the earlier instance.  In a future version, a new instance will always be created and returned.  Meanwhile, this warning can be suppressed, and the future behavior ensured, by passing a unique label to each axes instance.\n",
      "  if sys.path[0] == '':\n"
     ]
    },
    {
     "data": {
      "image/png": "[encoded data removed]",
      "text/plain": [
       "<Figure size 432x288 with 1 Axes>"
      ]
     },
     "metadata": {
      "needs_background": "light"
     },
     "output_type": "display_data"
    }
   ],
   "source": [
    "# Histogram of availability_365 with high counts cut off\n",
    "plt.figure()\n",
    "\n",
    "plt.hist(nyc_2019.availability_365, bins = range(0, 367, 1))\n",
    "\n",
    "# Cut off high counts at x = 0 and x = 364, 365\n",
    "plt.axis(ymax = 425)\n",
    "\n",
    "plt.xlabel('availability_365')\n",
    "plt.ylabel('no. listings')\n",
    "\n",
    "ax = plt.subplot()\n",
    "ax.set_xticks(range(0, 366, 90))\n",
    "ax.set_yticks(range(0, 500, 100))\n",
    "\n",
    "#plt.savefig('availability_365_hist.png')\n",
    "plt.show()\n",
    "\n",
    "plt.close()"
   ]
  },
  {
   "cell_type": "markdown",
   "metadata": {},
   "source": [
    "What are those peaks? Peaks at 90 and 180 are probably because they're round numbers but there appear to be regular peaks besides those."
   ]
  },
  {
   "cell_type": "code",
   "execution_count": 22,
   "metadata": {},
   "outputs": [
    {
     "name": "stderr",
     "output_type": "stream",
     "text": [
      "//anaconda3/lib/python3.7/site-packages/ipykernel_launcher.py:14: MatplotlibDeprecationWarning: Adding an axes using the same arguments as a previous axes currently reuses the earlier instance.  In a future version, a new instance will always be created and returned.  Meanwhile, this warning can be suppressed, and the future behavior ensured, by passing a unique label to each axes instance.\n",
      "  \n"
     ]
    },
    {
     "data": {
      "image/png": "[encoded data removed]",
      "text/plain": [
       "<Figure size 432x288 with 1 Axes>"
      ]
     },
     "metadata": {
      "needs_background": "light"
     },
     "output_type": "display_data"
    }
   ],
   "source": [
    "# Try to match spikes on previous fig to round numbers (multiples of 30)\n",
    "plt.figure()\n",
    "\n",
    "plt.hist(available.availability_365, bins = range(1, 367, 1))\n",
    "\n",
    "# Dashed vertical lines at multiples of 30\n",
    "for x in range(0, 390, 30):\n",
    "    plt.plot([x, x], [0, 425], color = 'k', linestyle = '--', alpha = 0.5, linewidth = 1)\n",
    "\n",
    "plt.axis(ymax = 425)\n",
    "plt.xlabel('availability_365')\n",
    "plt.ylabel('counts')\n",
    "\n",
    "ax = plt.subplot()\n",
    "ax.set_xticks(range(0, 366, 90))\n",
    "ax.set_yticks(range(0, 500, 100))\n",
    "\n",
    "plt.show()\n",
    "plt.close()"
   ]
  },
  {
   "cell_type": "markdown",
   "metadata": {},
   "source": [
    "Regular spikes seem to occur a few days after multiples of 30. Don't understand why this should be but probably isn't that important."
   ]
  },
  {
   "cell_type": "markdown",
   "metadata": {},
   "source": [
    "# Focus on minimum_nights"
   ]
  },
  {
   "cell_type": "markdown",
   "metadata": {},
   "source": [
    "This statistic can indicate whether hosts want short- or long-term occupants."
   ]
  },
  {
   "cell_type": "code",
   "execution_count": 23,
   "metadata": {
    "scrolled": true
   },
   "outputs": [
    {
     "data": {
      "text/plain": [
       "count    48895.000000\n",
       "mean         7.029962\n",
       "std         20.510550\n",
       "min          1.000000\n",
       "25%          1.000000\n",
       "50%          3.000000\n",
       "75%          5.000000\n",
       "max       1250.000000\n",
       "Name: minimum_nights, dtype: float64"
      ]
     },
     "execution_count": 23,
     "metadata": {},
     "output_type": "execute_result"
    }
   ],
   "source": [
    "# Focus on minimum_nights\n",
    "nyc_2019.minimum_nights.describe()\n"
   ]
  },
  {
   "cell_type": "markdown",
   "metadata": {},
   "source": [
    "Clearly some outliers here - no one requires tenants to stay for 4 years. How many properties have a minimum stay of over say 6 months?"
   ]
  },
  {
   "cell_type": "code",
   "execution_count": 24,
   "metadata": {},
   "outputs": [
    {
     "data": {
      "text/plain": [
       "0.2"
      ]
     },
     "execution_count": 24,
     "metadata": {},
     "output_type": "execute_result"
    }
   ],
   "source": [
    "round(len(nyc_2019[nyc_2019.minimum_nights >= 188]) / len(nyc_2019) * 100, 1)"
   ]
  },
  {
   "cell_type": "markdown",
   "metadata": {},
   "source": [
    "0.2% - isn't siginificant. Won't lose anything by keeping these in the dataset."
   ]
  },
  {
   "cell_type": "code",
   "execution_count": 25,
   "metadata": {},
   "outputs": [
    {
     "data": {
      "image/png": "[encoded data removed]",
      "text/plain": [
       "<Figure size 432x288 with 1 Axes>"
      ]
     },
     "metadata": {
      "needs_background": "light"
     },
     "output_type": "display_data"
    }
   ],
   "source": [
    "# Histogram of minimum_nights\n",
    "plt.figure()\n",
    "\n",
    "plt.hist(nyc_2019.minimum_nights, bins = 30)\n",
    "\n",
    "plt.xlabel('min_nights')\n",
    "plt.ylabel('no. listings')\n",
    "\n",
    "plt.show()\n",
    "plt.close()"
   ]
  },
  {
   "cell_type": "markdown",
   "metadata": {},
   "source": [
    "99% of data points have min_nights < 36 so no problem with only going up to 35 on x-axis."
   ]
  },
  {
   "cell_type": "code",
   "execution_count": 26,
   "metadata": {},
   "outputs": [
    {
     "name": "stderr",
     "output_type": "stream",
     "text": [
      "//anaconda3/lib/python3.7/site-packages/ipykernel_launcher.py:9: MatplotlibDeprecationWarning: Adding an axes using the same arguments as a previous axes currently reuses the earlier instance.  In a future version, a new instance will always be created and returned.  Meanwhile, this warning can be suppressed, and the future behavior ensured, by passing a unique label to each axes instance.\n",
      "  if __name__ == '__main__':\n"
     ]
    },
    {
     "data": {
      "image/png": "[encoded data removed]",
      "text/plain": [
       "<Figure size 504x504 with 1 Axes>"
      ]
     },
     "metadata": {
      "needs_background": "light"
     },
     "output_type": "display_data"
    }
   ],
   "source": [
    "# Histogram of minimum_nights up to x = 35\n",
    "plt.figure(figsize = (7, 7))\n",
    "\n",
    "plt.hist(nyc_2019.minimum_nights, bins = range(0,35))\n",
    "\n",
    "plt.xlabel('min_nights')\n",
    "plt.ylabel('no. listings')\n",
    "\n",
    "ax = plt.subplot()\n",
    "ax.set_xticks(range(0, 40, 10))\n",
    "ax.set_yticks(range(0, 16000, 4000))\n",
    "\n",
    "#plt.savefig('minimum_nights_hist.png')\n",
    "plt.show()\n",
    "\n",
    "plt.close()"
   ]
  },
  {
   "cell_type": "markdown",
   "metadata": {},
   "source": [
    "To get an intuitive measure of the distribution I want to find bin values that give roughly even heights."
   ]
  },
  {
   "cell_type": "code",
   "execution_count": 27,
   "metadata": {
    "scrolled": true
   },
   "outputs": [
    {
     "name": "stdout",
     "output_type": "stream",
     "text": [
      "1 2 26.0\n",
      "2 3 23.9\n",
      "3 4 16.4\n",
      "4 7 14.5\n",
      "7 30 10.0\n",
      "30 1250 9.2\n"
     ]
    }
   ],
   "source": [
    "# Trial and error to find bins that give bin_values of roughly even heights\n",
    "min_nights_bins = [1 ,2 ,3, 4, 7, 30, 1250]\n",
    "\n",
    "for i in range(len(min_nights_bins)-1):\n",
    "    xmin = min_nights_bins[i]\n",
    "    xmax = min_nights_bins[i + 1]\n",
    "    percentile = round(len(nyc_2019[(nyc_2019.minimum_nights >= xmin)&(nyc_2019.minimum_nights < xmax)])/len(nyc_2019)*100, 1)\n",
    "    print(xmin, xmax, percentile)"
   ]
  },
  {
   "cell_type": "markdown",
   "metadata": {},
   "source": [
    "So 65% of listings allow short-term stays (<4 nights) but a significant proportion require a longer stay."
   ]
  },
  {
   "cell_type": "markdown",
   "metadata": {},
   "source": [
    "# Covariance of min_nights and availability_365"
   ]
  },
  {
   "cell_type": "markdown",
   "metadata": {},
   "source": [
    "I'm interested in how these two variables interact. A 2-dimensional histogram (i.e. heatmap) might be a good way to show this."
   ]
  },
  {
   "cell_type": "code",
   "execution_count": 28,
   "metadata": {},
   "outputs": [
    {
     "name": "stderr",
     "output_type": "stream",
     "text": [
      "//anaconda3/lib/python3.7/site-packages/ipykernel_launcher.py:11: MatplotlibDeprecationWarning: Adding an axes using the same arguments as a previous axes currently reuses the earlier instance.  In a future version, a new instance will always be created and returned.  Meanwhile, this warning can be suppressed, and the future behavior ensured, by passing a unique label to each axes instance.\n",
      "  # This is added back by InteractiveShellApp.init_path()\n"
     ]
    },
    {
     "data": {
      "image/png": "[encoded data removed]",
      "text/plain": [
       "<Figure size 432x288 with 2 Axes>"
      ]
     },
     "metadata": {
      "needs_background": "light"
     },
     "output_type": "display_data"
    }
   ],
   "source": [
    "# 2-dimensional histogram of availability_365 against min_nights\n",
    "# Work only with available listings, else detail is obscured\n",
    "# Compare with unavailable listings afterwards using figure above\n",
    "plt.figure()\n",
    "\n",
    "availability_bin = list(range(0, 360, 30)) + [366]\n",
    "\n",
    "plt.hist2d(nyc_2019.availability_365, nyc_2019.minimum_nights, bins = (availability_bin, range(1, 35)))\n",
    "plt.colorbar()\n",
    "\n",
    "ax = plt.subplot()\n",
    "ax.set_xticks(range(0, 365, 90))\n",
    "ax.set_yticks([1] + list(range(10, 40, 10)))\n",
    "\n",
    "plt.xlabel('availability_365')\n",
    "plt.ylabel('min_nights')\n",
    "\n",
    "plt.show()\n",
    "plt.close()"
   ]
  },
  {
   "cell_type": "markdown",
   "metadata": {},
   "source": [
    "Unavailable properties are so numerous that they drown out everything else. For now I will just exclude properties with availability = 0. I feel okay about this because unavailable properties are either:\n",
    "- properties which haven't been listed for a while;\n",
    "- properties which are currently unavailable because they are fully booked or the host only puts them up at specific times (say when they're away).\n",
    "\n",
    "So, we should expect unavailable properties to be a mixture of different host behaviours and not a reliable indicator."
   ]
  },
  {
   "cell_type": "code",
   "execution_count": 29,
   "metadata": {},
   "outputs": [
    {
     "name": "stderr",
     "output_type": "stream",
     "text": [
      "//anaconda3/lib/python3.7/site-packages/ipykernel_launcher.py:10: MatplotlibDeprecationWarning: Adding an axes using the same arguments as a previous axes currently reuses the earlier instance.  In a future version, a new instance will always be created and returned.  Meanwhile, this warning can be suppressed, and the future behavior ensured, by passing a unique label to each axes instance.\n",
      "  # Remove the CWD from sys.path while we load stuff.\n"
     ]
    },
    {
     "data": {
      "image/png": "[encoded data removed]",
      "text/plain": [
       "<Figure size 432x288 with 2 Axes>"
      ]
     },
     "metadata": {
      "needs_background": "light"
     },
     "output_type": "display_data"
    }
   ],
   "source": [
    "# 2-dimensional histogram of availability_365 against min_nights\n",
    "# Work only with available listings, else detail is obscured\n",
    "plt.figure()\n",
    "\n",
    "availability_bin = list(range(0, 360, 30)) + [366]\n",
    "\n",
    "plt.hist2d(available.availability_365, available.minimum_nights, bins = (availability_bin, range(1, 35)))\n",
    "plt.colorbar()\n",
    "\n",
    "ax = plt.subplot()\n",
    "ax.set_xticks(range(0, 365, 90))\n",
    "ax.set_yticks([1] + list(range(10, 40, 10)))\n",
    "\n",
    "plt.xlabel('availability_365')\n",
    "plt.ylabel('min_nights')\n",
    "\n",
    "#plt.savefig('min_nights_availability_hist2d.png')\n",
    "plt.show()\n",
    "\n",
    "plt.close()"
   ]
  },
  {
   "cell_type": "code",
   "execution_count": 30,
   "metadata": {
    "scrolled": false
   },
   "outputs": [
    {
     "name": "stderr",
     "output_type": "stream",
     "text": [
      "//anaconda3/lib/python3.7/site-packages/ipykernel_launcher.py:8: MatplotlibDeprecationWarning: Adding an axes using the same arguments as a previous axes currently reuses the earlier instance.  In a future version, a new instance will always be created and returned.  Meanwhile, this warning can be suppressed, and the future behavior ensured, by passing a unique label to each axes instance.\n",
      "  \n"
     ]
    },
    {
     "data": {
      "image/png": "[encoded data removed]",
      "text/plain": [
       "<Figure size 432x576 with 1 Axes>"
      ]
     },
     "metadata": {
      "needs_background": "light"
     },
     "output_type": "display_data"
    }
   ],
   "source": [
    "# Same plot without but taller without colourbar\n",
    "plt.figure(figsize = (6, 8))\n",
    "\n",
    "availability_bin = list(range(0, 360, 30)) + [366]\n",
    "\n",
    "plt.hist2d(available.availability_365, available.minimum_nights, bins = (availability_bin, range(1, 35)))\n",
    "\n",
    "ax = plt.subplot()\n",
    "ax.set_xticks(range(0, 365, 90))\n",
    "ax.set_yticks([1] + list(range(10, 40, 10)))\n",
    "\n",
    "plt.xlabel('availability_365')\n",
    "plt.ylabel('min_nights')\n",
    "\n",
    "#plt.savefig('min_nights_availability_hist2d_2.png')\n",
    "plt.show()\n",
    "\n",
    "plt.close()"
   ]
  },
  {
   "cell_type": "markdown",
   "metadata": {},
   "source": [
    "Notice three hot spots:\n",
    "- Bottom left: short-term listing, low availability - traditional Airbnb model\n",
    "- Bottom right: short-term listing, high availability - traditional hotel model\n",
    "- Top right: long-term listing, high availability - like a short-term tenancy\n",
    "\n",
    "I'm interested in taking horizontal slices of this picture and seeing how the number of short-, medium-, and long-term listings changes with availability.\n",
    "\n",
    "First I want to briefly compare the distribution of min_nights between available and unavailable properties."
   ]
  },
  {
   "cell_type": "code",
   "execution_count": 31,
   "metadata": {},
   "outputs": [
    {
     "data": {
      "image/png": "[encoded data removed]",
      "text/plain": [
       "<Figure size 432x288 with 1 Axes>"
      ]
     },
     "metadata": {
      "needs_background": "light"
     },
     "output_type": "display_data"
    }
   ],
   "source": [
    "# Compare distribution of minimum_nights among available and unavailable properties\n",
    "plt.figure()\n",
    "\n",
    "# Generate heights for the plot\n",
    "# Normalise (density = True) to make up for different numbers of counts\n",
    "plot1 = plt.hist(available.minimum_nights, bins = range(0, 35), density = True)\n",
    "plot2 = plt.hist(unavailable.minimum_nights, bins = range(0, 35), density = True)\n",
    "plt.close()\n",
    "\n",
    "plt.figure()\n",
    "\n",
    "# Plot using line graph as it's easier to compare the two than with a bar chart\n",
    "plt.plot(plot1[0], label = 'available')\n",
    "plt.plot(plot2[0], label = 'unavailable')\n",
    "\n",
    "plt.legend()\n",
    "\n",
    "plt.xlabel('minimum_nights')\n",
    "plt.ylabel('proportion')\n",
    "\n",
    "plt.show()"
   ]
  },
  {
   "cell_type": "markdown",
   "metadata": {},
   "source": [
    "This plot shows what proportion of listings have a given value of minimum_nights amongst available and unavailable properties. The distributions look roughly the same except for the large spike at 30 for available properties. This makes sense; we should expect a large proportion of unavailable properties to be short-term listings that happen to unavailable at the moment, so they should have a similar distribution of min_nights as those with low availability. Looking at the heat map, properties with a low value of availability don't have a spike at in_nights = 30."
   ]
  },
  {
   "cell_type": "markdown",
   "metadata": {},
   "source": [
    "# How do long- and short-term listings change as a proportion as availability changes"
   ]
  },
  {
   "cell_type": "markdown",
   "metadata": {},
   "source": [
    "I want to fix a value (or range of values) of min_nights, see what proportion of listings have this value, and how this proportion changes with min_nights."
   ]
  },
  {
   "cell_type": "code",
   "execution_count": 32,
   "metadata": {
    "scrolled": false
   },
   "outputs": [
    {
     "name": "stderr",
     "output_type": "stream",
     "text": [
      "//anaconda3/lib/python3.7/site-packages/ipykernel_launcher.py:19: MatplotlibDeprecationWarning: Adding an axes using the same arguments as a previous axes currently reuses the earlier instance.  In a future version, a new instance will always be created and returned.  Meanwhile, this warning can be suppressed, and the future behavior ensured, by passing a unique label to each axes instance.\n"
     ]
    },
    {
     "data": {
      "image/png": "[encoded data removed]",
      "text/plain": [
       "<Figure size 864x288 with 1 Axes>"
      ]
     },
     "metadata": {
      "needs_background": "light"
     },
     "output_type": "display_data"
    }
   ],
   "source": [
    "# Examine relationship between long-term listings (min_nights >= 30) and availability_365\n",
    "# Change in counts of availability_365 make it necessary to normalise\n",
    "\n",
    "# Bin availability_365 at width 5\n",
    "# For each bin calculate long-term listings as a proportion of all listings in bin\n",
    "bins = range(0, 370, 5)\n",
    "bin_values = []\n",
    "\n",
    "for x in bins:\n",
    "    availability_in_bin = nyc_2019[(nyc_2019.availability_365 >= x)&(nyc_2019.availability_365 < x+5)]\n",
    "    proportion_long_term = len(availability_in_bin[availability_in_bin.minimum_nights >= 30])/len(availability_in_bin)\n",
    "    bin_values += [proportion_long_term]\n",
    "    \n",
    "# Generate histogram of long-term listings (min_nights >= 30) as a proportion of all listings against availibility_365\n",
    "plt.figure(figsize = (12, 4))    \n",
    "    \n",
    "plt.plot(bins, bin_values)\n",
    "\n",
    "ax = plt.subplot()\n",
    "ax.set_xticks(range(0, 365, 90))\n",
    "ax.set_yticks([0, 0.1, 0.2, 0.3])\n",
    "\n",
    "plt.xlabel('available_365')\n",
    "plt.ylabel('proportion of all listings')\n",
    "\n",
    "#plt.savefig('long_term_listings_availability.png')\n",
    "plt.show()\n",
    "\n",
    "plt.close()\n"
   ]
  },
  {
   "cell_type": "markdown",
   "metadata": {},
   "source": [
    "Long-term listings increase as a proportion of all listings at a fairly constant rate. What about short-term listings?"
   ]
  },
  {
   "cell_type": "code",
   "execution_count": 38,
   "metadata": {
    "scrolled": false
   },
   "outputs": [
    {
     "name": "stderr",
     "output_type": "stream",
     "text": [
      "//anaconda3/lib/python3.7/site-packages/ipykernel_launcher.py:16: MatplotlibDeprecationWarning: Adding an axes using the same arguments as a previous axes currently reuses the earlier instance.  In a future version, a new instance will always be created and returned.  Meanwhile, this warning can be suppressed, and the future behavior ensured, by passing a unique label to each axes instance.\n",
      "  app.launch_new_instance()\n"
     ]
    },
    {
     "data": {
      "image/png": "[encoded data removed]",
      "text/plain": [
       "<Figure size 864x288 with 1 Axes>"
      ]
     },
     "metadata": {
      "needs_background": "light"
     },
     "output_type": "display_data"
    }
   ],
   "source": [
    "# Repeat procedure for short-term listings (e.g. min_nights == 4) and compare\n",
    "# Generate bin_values\n",
    "bins = range(0, 370, 5)\n",
    "bin_values = []\n",
    "\n",
    "for x in bins:\n",
    "    availability_in_bin = nyc_2019[(nyc_2019.availability_365 >= x)&(nyc_2019.availability_365 < x+5)]\n",
    "    proportion_long_term = len(availability_in_bin[availability_in_bin.minimum_nights == 4])/len(availability_in_bin)\n",
    "    bin_values += [proportion_long_term]\n",
    "\n",
    "# Plot histogram\n",
    "plt.figure(figsize = (12, 4))    \n",
    "    \n",
    "plt.plot(bins, bin_values)\n",
    "\n",
    "ax = plt.subplot()\n",
    "ax.set_xticks(range(0, 365, 90))\n",
    "ax.set_yticks([0, 0.05, 0.1])\n",
    "\n",
    "plt.xlabel('available_365')\n",
    "plt.ylabel('proportion of all listings')\n",
    "\n",
    "#plt.savefig('short_term_listings_availability.png')\n",
    "plt.show()\n",
    "\n",
    "plt.close()\n"
   ]
  },
  {
   "cell_type": "markdown",
   "metadata": {},
   "source": [
    "Here it decreases. What about medium-term?"
   ]
  },
  {
   "cell_type": "code",
   "execution_count": 41,
   "metadata": {},
   "outputs": [
    {
     "name": "stderr",
     "output_type": "stream",
     "text": [
      "//anaconda3/lib/python3.7/site-packages/ipykernel_launcher.py:16: MatplotlibDeprecationWarning: Adding an axes using the same arguments as a previous axes currently reuses the earlier instance.  In a future version, a new instance will always be created and returned.  Meanwhile, this warning can be suppressed, and the future behavior ensured, by passing a unique label to each axes instance.\n",
      "  app.launch_new_instance()\n"
     ]
    },
    {
     "data": {
      "image/png": "[encoded data removed]",
      "text/plain": [
       "<Figure size 864x288 with 1 Axes>"
      ]
     },
     "metadata": {
      "needs_background": "light"
     },
     "output_type": "display_data"
    }
   ],
   "source": [
    "# Repeat procedure for medium-term listings (e.g. 14 <= min_nights < 30) and compare\n",
    "# Generate bin_values\n",
    "bins = range(0, 370, 5)\n",
    "bin_values = []\n",
    "\n",
    "for x in bins:\n",
    "    availability_in_bin = nyc_2019[(nyc_2019.availability_365 >= x)&(nyc_2019.availability_365 < x+5)]\n",
    "    proportion_long_term = len(availability_in_bin[(availability_in_bin.minimum_nights >= 14) & (availability_in_bin.minimum_nights < 30)])/len(availability_in_bin)\n",
    "    bin_values += [proportion_long_term]\n",
    "\n",
    "# Plot histogram\n",
    "plt.figure(figsize = (12, 4))    \n",
    "    \n",
    "plt.plot(bins, bin_values)\n",
    "\n",
    "ax = plt.subplot()\n",
    "ax.set_xticks(range(0, 365, 90))\n",
    "ax.set_yticks([0, 0.05, 0.1])\n",
    "\n",
    "plt.xlabel('available_365')\n",
    "plt.ylabel('proportion of all listings')\n",
    "\n",
    "#plt.savefig('short_term_listings_availability.png')\n",
    "plt.show()\n",
    "\n",
    "plt.close()"
   ]
  },
  {
   "cell_type": "markdown",
   "metadata": {},
   "source": [
    "Here it seems fairly stochastic with constant mean."
   ]
  },
  {
   "cell_type": "markdown",
   "metadata": {},
   "source": [
    "Experiments along these lines suggest that short-term listings decrease as a proportion as availability increases, medium-term stay roughly constant, and long-term increase. The change between short- and medium-term listings appears to be gradual whereas the change with long-term listings happens immediately at min_nights == 30. Some searching online suggests that properties with min_nights >= 30 might be markedly different from others because of laws in NYC; long-term rentals are defined as rentals of at least 30 days and are treated differently under NYC law."
   ]
  }
 ],
 "metadata": {
  "kernelspec": {
   "display_name": "Python 3",
   "language": "python",
   "name": "python3"
  },
  "language_info": {
   "codemirror_mode": {
    "name": "ipython",
    "version": 3
   },
   "file_extension": ".py",
   "mimetype": "text/x-python",
   "name": "python",
   "nbconvert_exporter": "python",
   "pygments_lexer": "ipython3",
   "version": "3.7.3"
  }
 },
 "nbformat": 4,
 "nbformat_minor": 2
}
